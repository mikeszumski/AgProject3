{
 "cells": [
  {
   "cell_type": "markdown",
   "metadata": {},
   "source": [
    "# Use our crops and weather data to build a predictive model"
   ]
  },
  {
   "cell_type": "code",
   "execution_count": 1,
   "metadata": {},
   "outputs": [],
   "source": [
    "# load all needed libraries\n",
    "\n",
    "import pandas as pd\n",
    "#import matplotlib.pyplot as plt\n",
    "from sklearn.preprocessing import StandardScaler, MinMaxScaler\n",
    "#from sklearn.cluster import KMeans\n",
    "#from sklearn.decomposition import PCA\n",
    "from sklearn.model_selection import train_test_split\n",
    "from sklearn.linear_model import LogisticRegression\n",
    "#from sklearn.neighbors import KNeighborsClassifier\n",
    "#from sklearn.svm import SVC\n",
    "#from sklearn.tree import DecisionTreeClassifier\n",
    "#from sklearn.ensemble import RandomForestClassifier\n",
    "#from sklearn.ensemble import GradientBoostingClassifier\n",
    "#from sklearn.metrics import classification_report\n",
    "#from sklearn.model_selection import cross_val_score\n",
    "#from sklearn.model_selection import GridSearchCV\n",
    "#from sklearn.model_selection import StratifiedKFold\n",
    "from sklearn.linear_model import LinearRegression\n",
    "from sklearn.svm import SVR\n",
    "from sklearn.tree import DecisionTreeRegressor\n",
    "from sklearn.ensemble import RandomForestRegressor\n",
    "from sklearn.ensemble import GradientBoostingRegressor\n",
    "from sklearn.metrics import mean_squared_error, r2_score,explained_variance_score,mean_absolute_error\n",
    "#from sklearn.model_selection import GridSearchCV\n",
    "\n",
    "pd.set_option('display.max_columns', None)"
   ]
  },
  {
   "cell_type": "code",
   "execution_count": 9,
   "metadata": {},
   "outputs": [
    {
     "name": "stdout",
     "output_type": "stream",
     "text": [
      "<class 'pandas.core.frame.DataFrame'>\n",
      "RangeIndex: 160 entries, 0 to 159\n",
      "Data columns (total 73 columns):\n",
      " #   Column                  Non-Null Count  Dtype  \n",
      "---  ------                  --------------  -----  \n",
      " 0   YEAR                    158 non-null    float64\n",
      " 1   BARLEY_ACRES            98 non-null     float64\n",
      " 2   BARLEY_$                75 non-null     float64\n",
      " 3   BARLEY_BU               100 non-null    float64\n",
      " 4   BARLEY_BU_ACRE          101 non-null    float64\n",
      " 5   BARLEY_$_ACRE           75 non-null     float64\n",
      " 6   BARLEY_CALC_ACRES       100 non-null    float64\n",
      " 7   CORN_ACRES              98 non-null     float64\n",
      " 8   CORN_$                  76 non-null     float64\n",
      " 9   CORN_BU                 158 non-null    float64\n",
      " 10  CORN_BU_ACRE            158 non-null    float64\n",
      " 11  CORN_$_ACRE             76 non-null     float64\n",
      " 12  CORN_CALC_ACRES         158 non-null    float64\n",
      " 13  COTTON_ACRES            115 non-null    float64\n",
      " 14  COTTON_$                14 non-null     float64\n",
      " 15  COTTON_LB               158 non-null    float64\n",
      " 16  COTTON_LB_ACRE          158 non-null    float64\n",
      " 17  COTTON_$_ACRE           14 non-null     float64\n",
      " 18  COTTON_CALC_ACRES       158 non-null    float64\n",
      " 19  HAY_ACRES               115 non-null    float64\n",
      " 20  HAY_$                   75 non-null     float64\n",
      " 21  HAY_T                   115 non-null    float64\n",
      " 22  HAY_T_ACRE              115 non-null    float64\n",
      " 23  HAY_$_ACRE              75 non-null     float64\n",
      " 24  HAY_CALC_ACRES          115 non-null    float64\n",
      " 25  OATS_ACRES              95 non-null     float64\n",
      " 26  OATS_$                  75 non-null     float64\n",
      " 27  OATS_BU                 158 non-null    float64\n",
      " 28  OATS_BU_ACRE            158 non-null    float64\n",
      " 29  OATS_$_ACRE             75 non-null     float64\n",
      " 30  OATS_CALC_ACRES         158 non-null    float64\n",
      " 31  PEANUTS_ACRES           115 non-null    float64\n",
      " 32  PEANUTS_$               42 non-null     float64\n",
      " 33  PEANUTS_LB              115 non-null    float64\n",
      " 34  PEANUTS_LB_ACRE         115 non-null    float64\n",
      " 35  PEANUTS_$_ACRE          42 non-null     float64\n",
      " 36  PEANUTS_CALC_ACRES      115 non-null    float64\n",
      " 37  PEPPERS, BELL_ACRES     26 non-null     float64\n",
      " 38  PEPPERS, BELL_$         26 non-null     float64\n",
      " 39  PEPPERS, BELL_CWT       26 non-null     float64\n",
      " 40  PEPPERS, BELL_CWT_ACRE  26 non-null     float64\n",
      " 41  PEPPERS,BELL_$_ACRE     26 non-null     float64\n",
      " 42  PEPPERS_CALC_ACRES      26 non-null     float64\n",
      " 43  SOYBEANS_ACRES          100 non-null    float64\n",
      " 44  SOYBEANS_$              76 non-null     float64\n",
      " 45  SOYBEANS_BU             100 non-null    float64\n",
      " 46  SOYBEANS_BU_ACRE        100 non-null    float64\n",
      " 47  SOYBEANS_$_ACRE         76 non-null     float64\n",
      " 48  SOYBEANS_CALC_ACRES     100 non-null    float64\n",
      " 49  SQUASH_ACRES            24 non-null     float64\n",
      " 50  SQUASH_$                24 non-null     float64\n",
      " 51  SQUASH_CWT              24 non-null     float64\n",
      " 52  SQUASH_CWT_ACRE         24 non-null     float64\n",
      " 53  SQUASH_$_ACRE           24 non-null     float64\n",
      " 54  SQUASH_CALC_ACRES       24 non-null     float64\n",
      " 55  SWEET_ACRES             96 non-null     float64\n",
      " 56  SWEET_$                 149 non-null    float64\n",
      " 57  SWEET_CWT               156 non-null    float64\n",
      " 58  SWEET_CWT_ACRE          156 non-null    float64\n",
      " 59  SWEET_$_ACRE            149 non-null    float64\n",
      " 60  SWEET_CALC_ACRES        156 non-null    float64\n",
      " 61  TOBACCO_ACRES           158 non-null    float64\n",
      " 62  TOBACCO_$               158 non-null    float64\n",
      " 63  TOBACCO_LB              158 non-null    float64\n",
      " 64  TOBACCO_LB_ACRE         158 non-null    float64\n",
      " 65  TOBACCO_$_ACRE          158 non-null    float64\n",
      " 66  TOBACCO_CALC_ACRES      158 non-null    float64\n",
      " 67  WHEAT_ACRES             115 non-null    float64\n",
      " 68  WHEAT_$                 75 non-null     float64\n",
      " 69  WHEAT_BU                158 non-null    float64\n",
      " 70  WHEAT_BU_ACRE           158 non-null    float64\n",
      " 71  WHEAT_$_ACRE            75 non-null     float64\n",
      " 72  WHEAT_CALC_ACRES        158 non-null    float64\n",
      "dtypes: float64(73)\n",
      "memory usage: 91.4 KB\n"
     ]
    },
    {
     "data": {
      "text/plain": [
       "None"
      ]
     },
     "metadata": {},
     "output_type": "display_data"
    },
    {
     "name": "stdout",
     "output_type": "stream",
     "text": [
      "160 rows read from crops file.\n",
      "45 rows read from weather file.\n"
     ]
    }
   ],
   "source": [
    "# import data\n",
    "\n",
    "folder = 'C:/Users/szums/AIBootCampPrime/AgProject3/Resources/'\n",
    "\n",
    "#crops data\n",
    "cropsdf = pd.read_csv(folder + 'cropsANNUALNCwideV2.csv',delimiter=',') \n",
    "cropsdf['YEAR'] = pd.to_numeric(cropsdf['YEAR'],errors='coerce')\n",
    "display(cropsdf.info())\n",
    "\n",
    "print(f'{len(cropsdf)} rows read from crops file.')\n",
    "\n",
    "#weather data\n",
    "wxdf = pd.read_excel(folder + 'MergedWeatherDataAnnual.xlsx')\n",
    "\n",
    "print(f'{len(wxdf)} rows read from weather file.')\n"
   ]
  },
  {
   "cell_type": "code",
   "execution_count": 11,
   "metadata": {},
   "outputs": [
    {
     "name": "stdout",
     "output_type": "stream",
     "text": [
      "min year in wx file 2000 max year 2020\n",
      "min year in crop file 1866.0 max year 2023.0\n",
      "Matching rows\n"
     ]
    },
    {
     "data": {
      "text/plain": [
       "'cropsdf1'"
      ]
     },
     "metadata": {},
     "output_type": "display_data"
    },
    {
     "data": {
      "text/plain": [
       "(21, 73)"
      ]
     },
     "metadata": {},
     "output_type": "display_data"
    },
    {
     "data": {
      "text/plain": [
       "'wxdf1'"
      ]
     },
     "metadata": {},
     "output_type": "display_data"
    },
    {
     "data": {
      "text/plain": [
       "(21, 14)"
      ]
     },
     "metadata": {},
     "output_type": "display_data"
    }
   ],
   "source": [
    "# we have weather data from 2000 - 2023 and we have crops data from 1866 to 2023.  make the years in each file match up.\n",
    "\n",
    "wxdf1 = wxdf.dropna()\n",
    "\n",
    "wxminyear = wxdf1['year'].min()\n",
    "wxmaxyear = wxdf1['year'].max()\n",
    "print('min year in wx file',wxminyear,'max year',wxmaxyear)\n",
    "\n",
    "crminyear = cropsdf['YEAR'].min()\n",
    "crmaxyear = cropsdf['YEAR'].max()\n",
    "print('min year in crop file',crminyear,'max year',crmaxyear)\n",
    "\n",
    "cropsdf1 = cropsdf[(cropsdf['YEAR'] >= wxminyear) & (cropsdf['YEAR'] <= wxmaxyear)]\n",
    "\n",
    "if len(wxdf1) == len(cropsdf1):\n",
    "    print('Matching rows')\n",
    "else:\n",
    "    print('ERROR: wxdf1 and cropsdf1 have different numbers of years')\n",
    "\n",
    "display('cropsdf1',cropsdf1.shape)\n",
    "display('wxdf1',wxdf1.shape)\n"
   ]
  },
  {
   "cell_type": "code",
   "execution_count": 12,
   "metadata": {},
   "outputs": [
    {
     "data": {
      "text/plain": [
       "Index(['year', 'Fall (SON)', 'Spring (MAM)', 'Summer (JJA)', 'Winter (DJF)',\n",
       "       'Annual Avg', 'precp Annual avg', 'Precip Fall', 'Precip Spring',\n",
       "       'Precip Summer', 'Precip Winter', 'Weeks of Severe drought',\n",
       "       'Weeks of Extreme Drought', 'Weeks of Exceptional Drought'],\n",
       "      dtype='object')"
      ]
     },
     "execution_count": 12,
     "metadata": {},
     "output_type": "execute_result"
    }
   ],
   "source": [
    "# make sure the dataframes are sorted by year\n",
    "\n",
    "wx_sorted = wxdf1.sort_values(by=['year'])\n",
    "\n",
    "crops_sorted = cropsdf1.sort_values(by=['YEAR'])\n",
    "\n",
    "wx_sorted.columns"
   ]
  },
  {
   "cell_type": "code",
   "execution_count": 70,
   "metadata": {},
   "outputs": [
    {
     "data": {
      "text/plain": [
       "['BARLEY_BU_ACRE',\n",
       " 'CORN_BU_ACRE',\n",
       " 'COTTON_LB_ACRE',\n",
       " 'HAY_T_ACRE',\n",
       " 'OATS_BU_ACRE',\n",
       " 'PEANUTS_LB_ACRE',\n",
       " 'PEPPERS, BELL_CWT_ACRE',\n",
       " 'SOYBEANS_BU_ACRE',\n",
       " 'SQUASH_CWT_ACRE',\n",
       " 'SWEET_CWT_ACRE',\n",
       " 'TOBACCO_LB_ACRE',\n",
       " 'WHEAT_BU_ACRE']"
      ]
     },
     "execution_count": 70,
     "metadata": {},
     "output_type": "execute_result"
    }
   ],
   "source": [
    "# now work with target values one by one\n",
    "\n",
    "targets = ['BARLEY_BU_ACRE','CORN_BU_ACRE','COTTON_LB_ACRE','HAY_T_ACRE','OATS_BU_ACRE','PEANUTS_LB_ACRE','PEPPERS, BELL_CWT_ACRE',\\\n",
    "            'SOYBEANS_BU_ACRE','SQUASH_CWT_ACRE','SWEET_CWT_ACRE','TOBACCO_LB_ACRE','WHEAT_BU_ACRE']\n",
    "\n",
    "X = wx_sorted.drop(['year','Annual Avg','precp Annual avg'],axis='columns')\n",
    "X.columns\n",
    "\n",
    "#columns_to_scale = ['']\n",
    "crops_sorted.dropna(axis=1, how='any',inplace=True)\n",
    "\n",
    "#targets = crops_sorted.columns.drop('YEAR')\n",
    "#targets = ['BARLEY_$_ACRE','CORN_$_ACRE','HAY_$_ACRE','OATS_$_ACRE','PEANUTS_$_ACRE','PEPPERS,BELL_$_ACRE',\n",
    "#           'SOYBEANS_$_ACRE','SQUASH_$_ACRE','SWEET_$_ACRE','TOBACCO_$_ACRE','WHEAT_$_ACRE']\n",
    "# removed 'COTTON_$_ACRE' because of missing data.\n",
    "\n",
    "targets"
   ]
  },
  {
   "cell_type": "code",
   "execution_count": 72,
   "metadata": {},
   "outputs": [
    {
     "name": "stdout",
     "output_type": "stream",
     "text": [
      "Working on BARLEY_BU_ACRE\n",
      "Working on CORN_BU_ACRE\n",
      "Working on COTTON_LB_ACRE\n",
      "Working on HAY_T_ACRE\n",
      "Working on OATS_BU_ACRE\n",
      "Working on PEANUTS_LB_ACRE\n",
      "Working on PEPPERS, BELL_CWT_ACRE\n",
      "Working on SOYBEANS_BU_ACRE\n",
      "Working on SQUASH_CWT_ACRE\n",
      "Working on SWEET_CWT_ACRE\n",
      "Working on TOBACCO_LB_ACRE\n",
      "Working on WHEAT_BU_ACRE\n",
      "fininshed\n"
     ]
    }
   ],
   "source": [
    "\n",
    "mse_list = []\n",
    "r2_list = []\n",
    "model_list = []\n",
    "target_list = []\n",
    "y_pred_list = []\n",
    "y_test_list = []\n",
    "ev_list = []\n",
    "mae_list = []\n",
    "\n",
    "models = [LinearRegression,SVR,DecisionTreeRegressor,RandomForestRegressor,GradientBoostingRegressor]\n",
    "model_names = ['LinearRegression()','SVR()','DecisionTreeRegressor()','RandomForestRegressor()','GradientBoostingRegressor()']\n",
    "\n",
    "for t in targets:\n",
    "    print('Working on',t)\n",
    "    y = crops_sorted[t]\n",
    "    X_train, X_test, y_train, y_test = train_test_split(X, y, test_size=0.2, random_state=42)\n",
    "\n",
    "    scaler_X = StandardScaler()\n",
    "    X_train_scaled = scaler_X.fit_transform(X_train)\n",
    "    X_test_scaled = scaler_X.fit_transform(X_test)\n",
    "\n",
    "    scaler_y = StandardScaler()\n",
    "    y_train_scaled = scaler_y.fit_transform(y_train.values.reshape(-1, 1)).flatten()\n",
    "    y_test_scaled = scaler_y.fit_transform(y_test.values.reshape(-1, 1)).flatten()\n",
    "\n",
    "    for m in range(len(models)):\n",
    "        \n",
    "        target_list.append(t)\n",
    "\n",
    "        this_model = models[m]()\n",
    "        this_model_name = model_names[m]\n",
    "        #print('...',this_model_name,this_model)\n",
    "\n",
    "        this_model.fit(X_train_scaled,y_train_scaled)\n",
    "        y_pred = this_model.predict(X_test_scaled)\n",
    "        y_pred_original = scaler_y.inverse_transform(y_pred.reshape(-1, 1))\n",
    "\n",
    "        y_pred_list.append(y_pred_original)\n",
    "        y_test_list.append(y_test)\n",
    "        model_list.append(this_model_name)\n",
    "\n",
    "        mse = mean_squared_error(y_test_scaled,y_pred)\n",
    "        mse_list.append(mse)\n",
    "\n",
    "        r2 = r2_score(y_test_scaled, y_pred)\n",
    "        r2_list.append(r2)\n",
    "\n",
    "        mae = mean_absolute_error(y_test_scaled,y_pred)\n",
    "        mae_list.append(mae)\n",
    "\n",
    "        ev_score = explained_variance_score(y_test_scaled,y_pred)\n",
    "        ev_list.append(ev_score)\n",
    "\n",
    "        #print('\\tMean square error:',mse)\n",
    "        #print('\\tR2 score',r2)\n",
    "\n",
    "        i += 1\n",
    "\n",
    "resultsdf = pd.DataFrame({'Target':target_list,\n",
    "                          \"model\" : model_list,\n",
    "                          'MSE':mse_list,\n",
    "                          'R2': r2_list,\n",
    "                          'Mean_abs_error': mae_list,\n",
    "                          'Explained var' : ev_list,\n",
    "                          'y_pred': y_pred_list,\n",
    "                          'y_test': y_test_list})\n",
    "    \n",
    "resultsdf.to_excel(folder+'cropWeatherModelResults3.xlsx', index=False)\n",
    "print('fininshed')\n"
   ]
  },
  {
   "cell_type": "code",
   "execution_count": null,
   "metadata": {},
   "outputs": [],
   "source": [
    "# Measure average performance for each model"
   ]
  },
  {
   "cell_type": "code",
   "execution_count": 73,
   "metadata": {},
   "outputs": [
    {
     "name": "stdout",
     "output_type": "stream",
     "text": [
      "\n",
      "Comparing model accuracy. Measure: MSE\n",
      "for MSE, the best values are as low a possible.\n",
      "model\n",
      "SVR()                          1.124498\n",
      "RandomForestRegressor()        1.156008\n",
      "GradientBoostingRegressor()    1.380616\n",
      "DecisionTreeRegressor()        1.923556\n",
      "LinearRegression()             2.153253\n",
      "Name: MSE, dtype: float64\n",
      "\n",
      "Comparing model accuracy. Measure: R2\n",
      "for R2, the best values are as close to 1.0 as possible.\n",
      "model\n",
      "SVR()                         -0.124498\n",
      "RandomForestRegressor()       -0.156008\n",
      "GradientBoostingRegressor()   -0.380616\n",
      "DecisionTreeRegressor()       -0.923556\n",
      "LinearRegression()            -1.153253\n",
      "Name: R2, dtype: float64\n",
      "\n",
      "Comparing model accuracy. Measure: Mean_abs_error\n",
      "for Mean_abs_error, the best values are as low a possible.\n",
      "model\n",
      "RandomForestRegressor()        0.897904\n",
      "SVR()                          0.899631\n",
      "GradientBoostingRegressor()    0.964289\n",
      "DecisionTreeRegressor()        1.101536\n",
      "LinearRegression()             1.175597\n",
      "Name: Mean_abs_error, dtype: float64\n",
      "\n",
      "Comparing model accuracy. Measure: Explained var\n",
      "for Explained var, the best values are as close to 1.0 as possible.\n",
      "model\n",
      "SVR()                         -0.117514\n",
      "RandomForestRegressor()       -0.144003\n",
      "GradientBoostingRegressor()   -0.313082\n",
      "DecisionTreeRegressor()       -0.835474\n",
      "LinearRegression()            -1.153253\n",
      "Name: Explained var, dtype: float64\n"
     ]
    },
    {
     "data": {
      "text/plain": [
       "model\n",
       "SVR()                         -0.117514\n",
       "RandomForestRegressor()       -0.144003\n",
       "GradientBoostingRegressor()   -0.313082\n",
       "DecisionTreeRegressor()       -0.835474\n",
       "LinearRegression()            -1.153253\n",
       "Name: Explained var, dtype: float64"
      ]
     },
     "metadata": {},
     "output_type": "display_data"
    }
   ],
   "source": [
    "#display(resultsdf.head())\n",
    "\n",
    "meanslist = []\n",
    "qmeasurelist = []\n",
    "\n",
    "for t in ['MSE','R2','Mean_abs_error','Explained var']:\n",
    "    print('\\nComparing model accuracy. Measure:',t)\n",
    "    modelmeans = resultsdf.groupby('model')[t].mean()\n",
    "    if t in ['MSE','Mean_abs_error']:\n",
    "        modelmeans.sort_values(ascending=True,inplace=True)\n",
    "        print(f'for {t}, the best values are as low a possible.')\n",
    "    else:\n",
    "        modelmeans.sort_values(ascending=False,inplace=True)\n",
    "        print(f'for {t}, the best values are as close to 1.0 as possible.')\n",
    "    #meanslist.append(modelmeans)\n",
    "    #qmeasurelist.append(t)\n",
    "    print(modelmeans)\n",
    "\n",
    "#resultssummary = pd.DataFrame({\"Quality Measure\" : qmeasurelist,\n",
    "#                               \"MeanModelAccuracy\" : meanslist})\n",
    "display(modelmeans)\n",
    "#resultssummary"
   ]
  },
  {
   "cell_type": "markdown",
   "metadata": {},
   "source": [
    "# Model performance summary\n",
    "\n",
    "Model performance was measured by Mean Square Error, R2, Mean Absolute Error and Explained Variance\n",
    "\n",
    "When used to model __crop value per acre__, the performance of each model varied significantly from crop to crop.  With these target measures, the crops that were most effectivly modeled are: Soybeans, Tobacco, Peanuts and Squash.  (Cotton could not be modeled due to absence of recent $ data.) The models that performed best with these crops were DecisionTreeRegressor and GradientBoostingRegressor.  \n",
    "\n",
    "When used to model crop __production per acre__ (bushels, tons, cwt, etc) per acre, the models also varied from crop to crop. With these measures, the models did the best job with Soybeans, Hay, Tobacco and Cotton.  The most effective models were GradientBoosting, SVR and RandomForestRegressor.\n",
    "\n"
   ]
  }
 ],
 "metadata": {
  "kernelspec": {
   "display_name": "dev",
   "language": "python",
   "name": "python3"
  },
  "language_info": {
   "codemirror_mode": {
    "name": "ipython",
    "version": 3
   },
   "file_extension": ".py",
   "mimetype": "text/x-python",
   "name": "python",
   "nbconvert_exporter": "python",
   "pygments_lexer": "ipython3",
   "version": "3.10.14"
  }
 },
 "nbformat": 4,
 "nbformat_minor": 2
}
