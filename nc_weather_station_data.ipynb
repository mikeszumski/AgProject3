{
 "cells": [
  {
   "cell_type": "code",
   "execution_count": 27,
   "id": "57fa07da-d56a-4378-95df-a303d8d9c472",
   "metadata": {},
   "outputs": [],
   "source": [
    "import pandas as pd\n",
    "import numpy as np\n",
    "import requests\n",
    "import path\n",
    "from dotenv import load_dotenv\n",
    "import os\n"
   ]
  },
  {
   "cell_type": "code",
   "execution_count": 22,
   "id": "72eb55e7-ce6c-4e35-b716-2c5f77aff030",
   "metadata": {},
   "outputs": [],
   "source": [
    "URL=URL=\"https://api.climate.ncsu.edu/data?loc=310212,310296,310506,310576,310627,311429,311624,311677,311690,311881,311949,311990,312238,312732,313152,313555,313638,315177,316096,317069,317319,317994,318450,318500,318744,318906,319026,319457&var=county,lat,lon,name,location,ob,dewtemp,wbgt,airtempavg,airpres,rh2m,precipavg1m_nosum,rad_total,soiltemp,soilmoistavg&start=1980-01-01 00:00&end=2024-08-22 23:59&int=1 MONTH&obtype=D&output=json&attr=location,datetime,var,name,value,value_accum,unit&hash=0560dbce2499198247d99a6954df06b0bd24a4dc\""
   ]
  },
  {
   "cell_type": "code",
   "execution_count": 24,
   "id": "2fca1368-e1f8-4dc1-9526-4582e9ddad3c",
   "metadata": {},
   "outputs": [],
   "source": [
    "response = requests.get(URL)"
   ]
  },
  {
   "cell_type": "code",
   "execution_count": 32,
   "id": "5be662d9-2364-4794-bd81-601156e977c9",
   "metadata": {},
   "outputs": [
    {
     "name": "stdout",
     "output_type": "stream",
     "text": [
      "Data successfully saved to climate_data.csv\n"
     ]
    }
   ],
   "source": [
    "# Check if the request was successful\n",
    "if response.status_code == 200:\n",
    "    # Parse the JSON response\n",
    "    data = response.json()\n",
    "    \n",
    "    # Convert the JSON data to a pandas DataFrame\n",
    "    nc_wx_pd = pd.json_normalize(data)\n",
    "    \n",
    "    # Save the DataFrame to a CSV file\n",
    "    nc_wx_pd.to_csv(\"Resources/climate_data.csv\", index=False)\n",
    "    print(\"Data successfully saved to climate_data.csv\")\n",
    "else:\n",
    "    print(f\"Failed to retrieve data. Status code: {response.status_code}\")"
   ]
  },
  {
   "cell_type": "code",
   "execution_count": 33,
   "id": "a335a3cc-506b-434b-b501-6b3e431a85d5",
   "metadata": {},
   "outputs": [
    {
     "data": {
      "text/html": [
       "<div>\n",
       "<style scoped>\n",
       "    .dataframe tbody tr th:only-of-type {\n",
       "        vertical-align: middle;\n",
       "    }\n",
       "\n",
       "    .dataframe tbody tr th {\n",
       "        vertical-align: top;\n",
       "    }\n",
       "\n",
       "    .dataframe thead th {\n",
       "        text-align: right;\n",
       "    }\n",
       "</style>\n",
       "<table border=\"1\" class=\"dataframe\">\n",
       "  <thead>\n",
       "    <tr style=\"text-align: right;\">\n",
       "      <th></th>\n",
       "      <th>status.code</th>\n",
       "      <th>status.status</th>\n",
       "      <th>status.message</th>\n",
       "      <th>status.errors</th>\n",
       "      <th>status.help</th>\n",
       "      <th>status.source</th>\n",
       "    </tr>\n",
       "  </thead>\n",
       "  <tbody>\n",
       "    <tr>\n",
       "      <th>0</th>\n",
       "      <td>400</td>\n",
       "      <td>ERROR</td>\n",
       "      <td>Uh oh, there is a FATAL ERROR with your request!</td>\n",
       "      <td>[Your data point usage for the month (394,340)...</td>\n",
       "      <td>For help, please contact the NC Climate Office...</td>\n",
       "      <td>https://api.climate.ncsu.edu/data?loc=310212,3...</td>\n",
       "    </tr>\n",
       "  </tbody>\n",
       "</table>\n",
       "</div>"
      ],
      "text/plain": [
       "  status.code status.status                                    status.message  \\\n",
       "0         400         ERROR  Uh oh, there is a FATAL ERROR with your request!   \n",
       "\n",
       "                                       status.errors  \\\n",
       "0  [Your data point usage for the month (394,340)...   \n",
       "\n",
       "                                         status.help  \\\n",
       "0  For help, please contact the NC Climate Office...   \n",
       "\n",
       "                                       status.source  \n",
       "0  https://api.climate.ncsu.edu/data?loc=310212,3...  "
      ]
     },
     "execution_count": 33,
     "metadata": {},
     "output_type": "execute_result"
    }
   ],
   "source": [
    "nc_wx_pd.head(5)"
   ]
  },
  {
   "cell_type": "code",
   "execution_count": null,
   "id": "2d323413-3875-4fe6-8346-e22fc113dbc5",
   "metadata": {},
   "outputs": [],
   "source": []
  }
 ],
 "metadata": {
  "kernelspec": {
   "display_name": "dev",
   "language": "python",
   "name": "dev"
  },
  "language_info": {
   "codemirror_mode": {
    "name": "ipython",
    "version": 3
   },
   "file_extension": ".py",
   "mimetype": "text/x-python",
   "name": "python",
   "nbconvert_exporter": "python",
   "pygments_lexer": "ipython3",
   "version": "3.10.13"
  }
 },
 "nbformat": 4,
 "nbformat_minor": 5
}
